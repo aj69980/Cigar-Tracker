{
 "cells": [
  {
   "cell_type": "code",
   "execution_count": 10,
   "metadata": {},
   "outputs": [
    {
     "name": "stdout",
     "output_type": "stream",
     "text": [
      "3.10.0\n"
     ]
    }
   ],
   "source": [
    "from platform import python_version\n",
    "print(python_version())"
   ]
  },
  {
   "cell_type": "code",
   "execution_count": 11,
   "metadata": {},
   "outputs": [
    {
     "name": "stdout",
     "output_type": "stream",
     "text": [
      "2022-06-26\n"
     ]
    }
   ],
   "source": [
    "import requests\n",
    "from bs4 import BeautifulSoup as bs\n",
    "import datetime as dt\n",
    "import time as t\n",
    "import random\n",
    "import pandas as pd\n",
    "import csv\n",
    "import selenium.webdriver as wd\n",
    "from selenium.webdriver.common.by import By\n",
    "from selenium.webdriver.support.ui import Select\n",
    "from selenium.webdriver.chrome.options import Options\n",
    "\n",
    "\n",
    "# Collect Current Date\n",
    "current_date = dt.date.today()\n",
    "current_date = (str(current_date))\n",
    "print(current_date)"
   ]
  },
  {
   "cell_type": "code",
   "execution_count": 12,
   "metadata": {},
   "outputs": [
    {
     "name": "stdout",
     "output_type": "stream",
     "text": [
      "Arturo Fuente Hemingway Best Seller $8.96 Arturo Fuente Hemingway Short Story $6.50\n"
     ]
    }
   ],
   "source": [
    "# Best Seller Title & Price\n",
    "best_seller_url = \"https://cigargod.com/collections/hemingway/products/arturo-fuente-hemingway-best-seller\"\n",
    "seller_html = requests.get(best_seller_url).text\n",
    "seller_soup = bs(seller_html, \"lxml\")\n",
    "seller_title = seller_soup.find(\"h1\", class_=\"product-single__title\").text\n",
    "seller_price = seller_soup.find(\"span\", class_ = \"product-single__price\").text.replace(\" \", \"\").replace(\"\\n\", \"\")\n",
    "\n",
    "# Short Story Title & Price\n",
    "\n",
    "short_story_url = \"https://cigargod.com/collections/hemingway/products/arturo-fuente-hemingway-short-story\"\n",
    "story_html = requests.get(short_story_url).text\n",
    "story_soup = bs(story_html, \"lxml\")\n",
    "story_title = story_soup.find(\"h1\", class_=\"product-single__title\").text\n",
    "story_price = story_soup.find(\"span\", class_ = \"product-single__price\").text.replace(\" \", \"\").replace(\"\\n\",\"\")\n",
    "\n",
    "print(seller_title,seller_price,\n",
    "      story_title,story_price)"
   ]
  },
  {
   "cell_type": "code",
   "execution_count": 14,
   "metadata": {},
   "outputs": [
    {
     "ename": "NameError",
     "evalue": "name 'ChromeOptions' is not defined",
     "output_type": "error",
     "traceback": [
      "\u001b[1;31m---------------------------------------------------------------------------\u001b[0m",
      "\u001b[1;31mNameError\u001b[0m                                 Traceback (most recent call last)",
      "\u001b[1;32m~\\AppData\\Local\\Temp/ipykernel_8804/999746411.py\u001b[0m in \u001b[0;36m<module>\u001b[1;34m\u001b[0m\n\u001b[1;32m----> 1\u001b[1;33m \u001b[0moptions\u001b[0m \u001b[1;33m=\u001b[0m \u001b[0mChromeOptions\u001b[0m\u001b[1;33m(\u001b[0m\u001b[1;33m)\u001b[0m\u001b[1;33m\u001b[0m\u001b[1;33m\u001b[0m\u001b[0m\n\u001b[0m\u001b[0;32m      2\u001b[0m \u001b[0moptions\u001b[0m\u001b[1;33m.\u001b[0m\u001b[0mheadless\u001b[0m\u001b[1;33m=\u001b[0m\u001b[1;32mTrue\u001b[0m\u001b[1;33m\u001b[0m\u001b[1;33m\u001b[0m\u001b[0m\n\u001b[0;32m      3\u001b[0m \u001b[0mbrowser\u001b[0m \u001b[1;33m=\u001b[0m \u001b[0mwebdriver\u001b[0m\u001b[1;33m.\u001b[0m\u001b[0mChrome\u001b[0m\u001b[1;33m(\u001b[0m\u001b[0moptions\u001b[0m\u001b[1;33m=\u001b[0m\u001b[0moptions\u001b[0m\u001b[1;33m)\u001b[0m\u001b[1;33m\u001b[0m\u001b[1;33m\u001b[0m\u001b[0m\n\u001b[0;32m      4\u001b[0m \u001b[0mfox_url\u001b[0m \u001b[1;33m=\u001b[0m \u001b[1;34m\"https://foxcigar.com/shop/cigars/arturo-fuente/hemingway/short-story/\"\u001b[0m\u001b[1;33m\u001b[0m\u001b[1;33m\u001b[0m\u001b[0m\n\u001b[0;32m      5\u001b[0m \u001b[0mbrowser\u001b[0m\u001b[1;33m.\u001b[0m\u001b[0mget\u001b[0m\u001b[1;33m(\u001b[0m\u001b[0mfox_url\u001b[0m\u001b[1;33m)\u001b[0m\u001b[1;33m\u001b[0m\u001b[1;33m\u001b[0m\u001b[0m\n",
      "\u001b[1;31mNameError\u001b[0m: name 'ChromeOptions' is not defined"
     ]
    }
   ],
   "source": [
    "options = ChromeOptions()\n",
    "options.headless=True\n",
    "browser = webdriver.Chrome(options=options)\n",
    "fox_url = \"https://foxcigar.com/shop/cigars/arturo-fuente/hemingway/short-story/\"\n",
    "browser.get(fox_url)\n",
    "\n",
    "def fox_info():\n",
    "    try:\n",
    "        browser.get(fox_url)\n",
    "        t.sleep(3)\n",
    "        title = browser.title\n",
    "        return (title)\n",
    "        \n",
    "        # Close Popup\n",
    "        browser.find_element(By.XPATH, \"/html/body/div[9]/div/div/div/div/div/div/button\").click()\n",
    "        t.sleep(random.randrange(1,2))\n",
    "\n",
    "\n",
    "\n",
    "        # Dropdown Clicker\n",
    "        dropbox = browser.find_element(By.ID, \"pa_cigar-count\")\n",
    "        drp = Select(dropbox)\n",
    "        drp.select_by_visible_text(\"Single\")\n",
    "        t.sleep(random.randrange(5))\n",
    "\n",
    "        # Pulls Price\n",
    "        price = browser.find_element(By.CSS_SELECTOR, \"#product-47749 > div:nth-child(1) > div > div > div > div.col-sm-6.summary.entry-summary > div > div > form > div > div.woocommerce-variation.single_variation > div.woocommerce-variation-price > span > span > bdi\")\n",
    "        price=price.text\n",
    "        # print(price)\n",
    "        return(price)\n",
    "        \n",
    "        browser.close()  \n",
    "        \n",
    "    except Exception as err:\n",
    "        print(err)\n",
    "        browser.quit()\n",
    "\n",
    "price = fox_info()\n",
    "print(price)"
   ]
  },
  {
   "cell_type": "code",
   "execution_count": null,
   "metadata": {},
   "outputs": [],
   "source": [
    "cigars = {\n",
    "    \"Date\": [current_date, current_date],\n",
    "    \"Cigar Type\": [story_title, seller_title],\n",
    "    \"CigarGod.com\": [story_price,seller_price],\n",
    "    \"Holts.com\": [\"\",\"\"]\n",
    "}"
   ]
  },
  {
   "cell_type": "code",
   "execution_count": null,
   "metadata": {},
   "outputs": [],
   "source": [
    "df = pd.DataFrame(cigars)"
   ]
  },
  {
   "cell_type": "code",
   "execution_count": null,
   "metadata": {},
   "outputs": [
    {
     "data": {
      "text/html": [
       "<div>\n",
       "<style scoped>\n",
       "    .dataframe tbody tr th:only-of-type {\n",
       "        vertical-align: middle;\n",
       "    }\n",
       "\n",
       "    .dataframe tbody tr th {\n",
       "        vertical-align: top;\n",
       "    }\n",
       "\n",
       "    .dataframe thead th {\n",
       "        text-align: right;\n",
       "    }\n",
       "</style>\n",
       "<table border=\"1\" class=\"dataframe\">\n",
       "  <thead>\n",
       "    <tr style=\"text-align: right;\">\n",
       "      <th></th>\n",
       "      <th>Date</th>\n",
       "      <th>Cigar Type</th>\n",
       "      <th>CigarGod.com</th>\n",
       "      <th>Holts.com</th>\n",
       "    </tr>\n",
       "  </thead>\n",
       "  <tbody>\n",
       "    <tr>\n",
       "      <th>0</th>\n",
       "      <td>2022-06-25</td>\n",
       "      <td>Arturo Fuente Hemingway Short Story</td>\n",
       "      <td>$6.50</td>\n",
       "      <td></td>\n",
       "    </tr>\n",
       "    <tr>\n",
       "      <th>1</th>\n",
       "      <td>2022-06-25</td>\n",
       "      <td>Arturo Fuente Hemingway Best Seller</td>\n",
       "      <td>$8.96</td>\n",
       "      <td></td>\n",
       "    </tr>\n",
       "  </tbody>\n",
       "</table>\n",
       "</div>"
      ],
      "text/plain": [
       "         Date                           Cigar Type CigarGod.com Holts.com\n",
       "0  2022-06-25  Arturo Fuente Hemingway Short Story        $6.50          \n",
       "1  2022-06-25  Arturo Fuente Hemingway Best Seller        $8.96          "
      ]
     },
     "execution_count": 24,
     "metadata": {},
     "output_type": "execute_result"
    }
   ],
   "source": [
    "df"
   ]
  }
 ],
 "metadata": {
  "kernelspec": {
   "display_name": "Python 3 (ipykernel)",
   "language": "python",
   "name": "python3"
  },
  "language_info": {
   "codemirror_mode": {
    "name": "ipython",
    "version": 3
   },
   "file_extension": ".py",
   "mimetype": "text/x-python",
   "name": "python",
   "nbconvert_exporter": "python",
   "pygments_lexer": "ipython3",
   "version": "3.10.0"
  },
  "vscode": {
   "interpreter": {
    "hash": "0b6fd1a82b2d9197bf27575acf54f1cd90024fbbcd8b72cfbb7c95a9d3a58d13"
   }
  }
 },
 "nbformat": 4,
 "nbformat_minor": 2
}
