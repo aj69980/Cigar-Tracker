{
 "cells": [
  {
   "cell_type": "code",
   "execution_count": 1,
   "metadata": {},
   "outputs": [
    {
     "name": "stdout",
     "output_type": "stream",
     "text": [
      "2022-07-07\n"
     ]
    }
   ],
   "source": [
    "import requests\n",
    "from bs4 import BeautifulSoup as bs\n",
    "import datetime as dt\n",
    "import time as t\n",
    "import random\n",
    "import pandas as pd\n",
    "import csv\n",
    "import selenium.webdriver as webdriver\n",
    "from selenium.webdriver.common.by import By\n",
    "from selenium.webdriver.support.ui import Select\n",
    "from selenium.webdriver.chrome.options import Options\n",
    "from selenium.webdriver import Chrome\n",
    "from selenium.webdriver import ChromeOptions\n"
   ]
  },
  {
   "cell_type": "code",
   "execution_count": null,
   "metadata": {},
   "outputs": [],
   "source": [
    "latest_price = last_price\n"
   ]
  },
  {
   "cell_type": "code",
   "execution_count": 2,
   "metadata": {},
   "outputs": [
    {
     "name": "stdout",
     "output_type": "stream",
     "text": [
      "Arturo Fuente Hemingway Best Seller $8.96 Arturo Fuente Hemingway Short Story $6.50\n"
     ]
    }
   ],
   "source": [
    "# Best Seller Title & Price\n",
    "best_seller_url = \"https://cigargod.com/collections/hemingway/products/arturo-fuente-hemingway-best-seller\"\n",
    "seller_html = requests.get(best_seller_url).text\n",
    "seller_soup = bs(seller_html, \"lxml\")\n",
    "seller_title = seller_soup.find(\"h1\", class_=\"product-single__title\").text\n",
    "seller_price = seller_soup.find(\"span\", class_ = \"product-single__price\").text.replace(\" \", \"\").replace(\"\\n\", \"\")\n",
    "\n",
    "# Short Story Title & Price\n",
    "\n",
    "short_story_url = \"https://cigargod.com/collections/hemingway/products/arturo-fuente-hemingway-short-story\"\n",
    "story_html = requests.get(short_story_url).text\n",
    "story_soup = bs(story_html, \"lxml\")\n",
    "story_title = story_soup.find(\"h1\", class_=\"product-single__title\").text\n",
    "story_price = story_soup.find(\"span\", class_ = \"product-single__price\").text.replace(\" \", \"\").replace(\"\\n\",\"\")\n",
    "\n",
    "print(seller_title,seller_price,\n",
    "      story_title,story_price)"
   ]
  },
  {
   "cell_type": "code",
   "execution_count": 9,
   "metadata": {},
   "outputs": [
    {
     "name": "stdout",
     "output_type": "stream",
     "text": [
      "Arturo Fuente Hemingway Short Story\n",
      "Out of Stock\n"
     ]
    }
   ],
   "source": [
    "options = ChromeOptions()\n",
    "options.headless=True\n",
    "browser = webdriver.Chrome(options=options)\n",
    "fox_url = \"https://foxcigar.com/shop/cigars/arturo-fuente/hemingway/short-story/\"\n",
    "browser.get(fox_url)\n",
    "def fox_title():\n",
    "    try:\n",
    "        browser.get(fox_url)\n",
    "        t.sleep(3)\n",
    "        fox_title=browser.title\n",
    "        fox_title = fox_title[0:((fox_title.index(\"Story\"))+5)]\n",
    "        return(fox_title)\n",
    "        \n",
    "        browser.close()  \n",
    "        \n",
    "    except Exception as err:\n",
    "        print(err)\n",
    "        browser.quit()\n",
    "        \n",
    "def fox_price():\n",
    "    try:\n",
    "        browser.get(fox_url)\n",
    "        t.sleep(3)\n",
    "        title = browser.title\n",
    "        \n",
    "        # Close Popup\n",
    "        browser.find_element(By.XPATH, \"/html/body/div[9]/div/div/div/div/div/div/button\").click()\n",
    "        t.sleep(random.randrange(1,2))\n",
    "\n",
    "\n",
    "\n",
    "        # Dropdown Clicker\n",
    "        dropbox = browser.find_element(By.ID, \"pa_cigar-count\")\n",
    "        if not dropbox.startswith(\"$\"):\n",
    "            print(\"Out of Stock\")\n",
    "            return (\"Out of Stock\")\n",
    "        drp = Select(dropbox)\n",
    "        drp.select_by_visible_text(\"Single\")\n",
    "        t.sleep(random.randrange(5))\n",
    "\n",
    "        # Pulls Price\n",
    "        price = browser.find_element(By.CSS_SELECTOR, \"#product-47749 > div:nth-child(1) > div > div > div > div.col-sm-6.summary.entry-summary > div > div > form > div > div.woocommerce-variation.single_variation > div.woocommerce-variation-price > span > span > bdi\")\n",
    "        price=price.text\n",
    "        # print(price)\n",
    "        return(price)\n",
    "        \n",
    "        browser.close()  \n",
    "        \n",
    "    except Exception as err:\n",
    "        # print(err)\n",
    "        browser.quit()\n",
    "        return(\"Out of Stock\")\n",
    "\n",
    "fox_title = fox_title()\n",
    "print(fox_title)\n",
    "fox_price = fox_price()\n",
    "print(fox_price)\n"
   ]
  },
  {
   "cell_type": "code",
   "execution_count": 22,
   "metadata": {},
   "outputs": [
    {
     "name": "stdout",
     "output_type": "stream",
     "text": [
      "2022-07-08\n"
     ]
    }
   ],
   "source": [
    "# Collect Current Date\n",
    "latest_date = dt.date.today()\n",
    "current_date = (str(latest_date))\n",
    "print(current_date)"
   ]
  },
  {
   "cell_type": "code",
   "execution_count": 23,
   "metadata": {},
   "outputs": [],
   "source": [
    "cigar_constant = {\n",
    "    \"Date\": [latest_date, latest_date],\n",
    "    \"Cigar Type\": [story_title, seller_title],\n",
    "    \"CigarGod.com\": [story_price,seller_price],\n",
    "    \"foxcigar.com\": [fox_price,\"Not Available\"]\n",
    "}"
   ]
  },
  {
   "cell_type": "code",
   "execution_count": 24,
   "metadata": {},
   "outputs": [],
   "source": [
    "df = pd.DataFrame(cigar_constant)"
   ]
  },
  {
   "cell_type": "code",
   "execution_count": 25,
   "metadata": {},
   "outputs": [
    {
     "data": {
      "text/html": [
       "<div>\n",
       "<style scoped>\n",
       "    .dataframe tbody tr th:only-of-type {\n",
       "        vertical-align: middle;\n",
       "    }\n",
       "\n",
       "    .dataframe tbody tr th {\n",
       "        vertical-align: top;\n",
       "    }\n",
       "\n",
       "    .dataframe thead th {\n",
       "        text-align: right;\n",
       "    }\n",
       "</style>\n",
       "<table border=\"1\" class=\"dataframe\">\n",
       "  <thead>\n",
       "    <tr style=\"text-align: right;\">\n",
       "      <th></th>\n",
       "      <th>Date</th>\n",
       "      <th>Cigar Type</th>\n",
       "      <th>CigarGod.com</th>\n",
       "      <th>foxcigar.com</th>\n",
       "    </tr>\n",
       "  </thead>\n",
       "  <tbody>\n",
       "    <tr>\n",
       "      <th>0</th>\n",
       "      <td>2022-07-08</td>\n",
       "      <td>Arturo Fuente Hemingway Short Story</td>\n",
       "      <td>$6.50</td>\n",
       "      <td>Out of Stock</td>\n",
       "    </tr>\n",
       "    <tr>\n",
       "      <th>1</th>\n",
       "      <td>2022-07-08</td>\n",
       "      <td>Arturo Fuente Hemingway Best Seller</td>\n",
       "      <td>$8.96</td>\n",
       "      <td>Not Available</td>\n",
       "    </tr>\n",
       "  </tbody>\n",
       "</table>\n",
       "</div>"
      ],
      "text/plain": [
       "         Date                           Cigar Type CigarGod.com   foxcigar.com\n",
       "0  2022-07-08  Arturo Fuente Hemingway Short Story        $6.50   Out of Stock\n",
       "1  2022-07-08  Arturo Fuente Hemingway Best Seller        $8.96  Not Available"
      ]
     },
     "execution_count": 25,
     "metadata": {},
     "output_type": "execute_result"
    }
   ],
   "source": [
    "df"
   ]
  }
 ],
 "metadata": {
  "kernelspec": {
   "display_name": "Python 3.10.0 64-bit",
   "language": "python",
   "name": "python3"
  },
  "language_info": {
   "codemirror_mode": {
    "name": "ipython",
    "version": 3
   },
   "file_extension": ".py",
   "mimetype": "text/x-python",
   "name": "python",
   "nbconvert_exporter": "python",
   "pygments_lexer": "ipython3",
   "version": "3.10.0"
  },
  "vscode": {
   "interpreter": {
    "hash": "351c872e5cfd325c76ac73b5b470a4d0446740877cb9514a8a5b100a735ac61f"
   }
  }
 },
 "nbformat": 4,
 "nbformat_minor": 2
}
